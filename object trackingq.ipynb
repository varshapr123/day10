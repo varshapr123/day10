{
 "cells": [
  {
   "cell_type": "code",
   "execution_count": null,
   "metadata": {},
   "outputs": [],
   "source": [
    "import numpy as np\n",
    "import cv2\n",
    "\n",
    "cap=cv2.VideoCapture(0)\n",
    "while True:\n",
    "\tret, img=cap.read()\n",
    "\thsv=cv2.cvtColor(img,cv2.COLOR_BGR2HSV) #this function filters out the darker pixels\n",
    "\tkernel=np.ones((5,5),np.uint8)\n",
    "\tLower_green = np.array([29, 86, 6])\n",
    "\tUpper_green = np.array([64, 255, 255])\n",
    "\tmask=cv2.inRange(hsv,Lower_green,Upper_green)\n",
    "\t#mask = cv2.erode(mask, kernel, iterations=2)\n",
    "\tmask=cv2.morphologyEx(mask,cv2.MORPH_OPEN,kernel)\n",
    "\t#mask=cv2.morphologyEx(mask,cv2.MORPH_CLOSE,kernel)\n",
    "\tmask = cv2.dilate(mask, kernel, iterations=1)\n",
    "\tres=cv2.bitwise_and(img,img,mask=mask)\n",
    "\tcnts,heir=cv2.findContours(mask.copy(),cv2.RETR_EXTERNAL,cv2.CHAIN_APPROX_SIMPLE)[-2:]\n",
    "\tcenter = None\n",
    " \n",
    "\tif len(cnts) > 0:\n",
    "\t\tc = max(cnts, key=cv2.contourArea)\n",
    "\t\t((x, y), radius) = cv2.minEnclosingCircle(c)\n",
    "\t\tM = cv2.moments(c)\n",
    "\t\tcenter = (int(M[\"m10\"] / M[\"m00\"]), int(M[\"m01\"] / M[\"m00\"]))\n",
    " \n",
    "\t\tif radius > 10:\n",
    "\t\t\tcv2.circle(img, (int(x), int(y)), int(radius),(0, 255, 255), 2)\n",
    "\t\t\tcv2.circle(img, center, 5, (0, 0, 255), -1)\n",
    "\t\t\n",
    "\t\n",
    "\t\n",
    "\tcv2.imshow(\"Frame\", img) #function displays a window but not displaying the image\n",
    "\tcv2.imshow(\"mask\",mask)\n",
    "\tcv2.imshow(\"res\",res)\n",
    "\t\n",
    "\tk=cv2.waitKey(30) & 0xFF\n",
    "\tif k==32:\n",
    "\t\tbreak\n",
    "# cleanup the camera and close any open windows\n",
    "cap.release() # When everything done, release the capture\n",
    "cv2.destroyAllWindows() #Returns the captured image's name\n"
   ]
  },
  {
   "cell_type": "code",
   "execution_count": null,
   "metadata": {},
   "outputs": [],
   "source": []
  },
  {
   "cell_type": "code",
   "execution_count": null,
   "metadata": {},
   "outputs": [],
   "source": []
  },
  {
   "cell_type": "code",
   "execution_count": null,
   "metadata": {},
   "outputs": [],
   "source": []
  },
  {
   "cell_type": "code",
   "execution_count": null,
   "metadata": {},
   "outputs": [],
   "source": []
  },
  {
   "cell_type": "code",
   "execution_count": null,
   "metadata": {},
   "outputs": [],
   "source": []
  }
 ],
 "metadata": {
  "kernelspec": {
   "display_name": "Python 3",
   "language": "python",
   "name": "python3"
  },
  "language_info": {
   "codemirror_mode": {
    "name": "ipython",
    "version": 3
   },
   "file_extension": ".py",
   "mimetype": "text/x-python",
   "name": "python",
   "nbconvert_exporter": "python",
   "pygments_lexer": "ipython3",
   "version": "3.7.3"
  }
 },
 "nbformat": 4,
 "nbformat_minor": 2
}
